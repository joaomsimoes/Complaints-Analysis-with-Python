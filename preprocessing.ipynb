{
 "cells": [
  {
   "cell_type": "code",
   "execution_count": 1,
   "metadata": {
    "collapsed": true
   },
   "outputs": [],
   "source": [
    "import spacy\n",
    "import datetime\n",
    "import nltk\n",
    "import re\n",
    "from app.sql_conn import *"
   ]
  },
  {
   "cell_type": "code",
   "execution_count": 2,
   "outputs": [
    {
     "data": {
      "text/plain": "                                                    data  \\\nid                                                         \n1                                     9 de outubro 2020    \n2                                     5 de janeiro 2019    \n3      28 de setembro 2021 |Data de ocorrência: 28 de...   \n4                                       4 de julho 2017    \n5                                      5 de agosto 2015    \n...                                                  ...   \n19119                                8 de setembro 2017    \n19120      14 de junho 2019 (editada a 18 de junho 2019)   \n19121                              18 de fevereiro 2021    \n19122                                 9 de outubro 2014    \n19123                                8 de setembro 2017    \n\n                                                   title  \\\nid                                                         \n1                                 Mau atendimento cinema   \n2                                              Faturação   \n3                                      Cobrança indevida   \n4                  Mau Serviço - Suspensão serviço móvel   \n5                               Incumprimento contratual   \n...                                                  ...   \n19119             AUSENCIA DE CONTATOS E ESCLARECIMENTOS   \n19120  Velocidade de internet não corresponde a contr...   \n19121                     Reclamação - cobrança indevida   \n19122                                Facturação Indevida   \n19123              Eternidade na resolução de problema     \n\n                                                 comment  \\\nid                                                         \n1      venho por este meio apresentar a minha indigna...   \n2      Após me deslocar à Nós do Forum Montijo ,no di...   \n3      Ao contratar os serviços de Internet, pedi à o...   \n4      Boa noite, Na sequência da queixa anterior, po...   \n5      No dia 18 de Maio de 2015, uma colaboradora da...   \n...                                                  ...   \n19119  Estive na Loja de oeiras para dar baixa de ser...   \n19120  Olá, Venho por este meio reclamar do mau servi...   \n19121  Sou cliente da NOS há alguns anos e aderi a um...   \n19122  Minha Reclamação ( 9/4/2014 DECO como intermed...   \n19123  Estou sem telefone fixo num estabelecimento co...   \n\n                                                    link          created_at  \nid                                                                            \n1      https://portaldaqueixa.com/brands/nos/complain... 2022-01-21 14:45:55  \n2      https://portaldaqueixa.com/brands/nos/complain... 2022-01-21 14:45:58  \n3      https://portaldaqueixa.com/brands/nos/complain... 2022-01-21 14:46:01  \n4      https://portaldaqueixa.com/brands/nos/complain... 2022-01-21 14:46:04  \n5      https://portaldaqueixa.com/brands/nos/complain... 2022-01-21 14:46:07  \n...                                                  ...                 ...  \n19119  https://portaldaqueixa.com/brands/nos/complain... 2022-01-24 17:59:36  \n19120  https://portaldaqueixa.com/brands/nos/complain... 2022-01-24 17:59:38  \n19121  https://portaldaqueixa.com/brands/nos/complain... 2022-01-24 17:59:41  \n19122  https://portaldaqueixa.com/brands/nos/complain... 2022-01-24 17:59:43  \n19123  https://portaldaqueixa.com/brands/nos/complain... 2022-01-24 17:59:46  \n\n[19123 rows x 5 columns]",
      "text/html": "<div>\n<style scoped>\n    .dataframe tbody tr th:only-of-type {\n        vertical-align: middle;\n    }\n\n    .dataframe tbody tr th {\n        vertical-align: top;\n    }\n\n    .dataframe thead th {\n        text-align: right;\n    }\n</style>\n<table border=\"1\" class=\"dataframe\">\n  <thead>\n    <tr style=\"text-align: right;\">\n      <th></th>\n      <th>data</th>\n      <th>title</th>\n      <th>comment</th>\n      <th>link</th>\n      <th>created_at</th>\n    </tr>\n    <tr>\n      <th>id</th>\n      <th></th>\n      <th></th>\n      <th></th>\n      <th></th>\n      <th></th>\n    </tr>\n  </thead>\n  <tbody>\n    <tr>\n      <th>1</th>\n      <td>9 de outubro 2020</td>\n      <td>Mau atendimento cinema</td>\n      <td>venho por este meio apresentar a minha indigna...</td>\n      <td>https://portaldaqueixa.com/brands/nos/complain...</td>\n      <td>2022-01-21 14:45:55</td>\n    </tr>\n    <tr>\n      <th>2</th>\n      <td>5 de janeiro 2019</td>\n      <td>Faturação</td>\n      <td>Após me deslocar à Nós do Forum Montijo ,no di...</td>\n      <td>https://portaldaqueixa.com/brands/nos/complain...</td>\n      <td>2022-01-21 14:45:58</td>\n    </tr>\n    <tr>\n      <th>3</th>\n      <td>28 de setembro 2021 |Data de ocorrência: 28 de...</td>\n      <td>Cobrança indevida</td>\n      <td>Ao contratar os serviços de Internet, pedi à o...</td>\n      <td>https://portaldaqueixa.com/brands/nos/complain...</td>\n      <td>2022-01-21 14:46:01</td>\n    </tr>\n    <tr>\n      <th>4</th>\n      <td>4 de julho 2017</td>\n      <td>Mau Serviço - Suspensão serviço móvel</td>\n      <td>Boa noite, Na sequência da queixa anterior, po...</td>\n      <td>https://portaldaqueixa.com/brands/nos/complain...</td>\n      <td>2022-01-21 14:46:04</td>\n    </tr>\n    <tr>\n      <th>5</th>\n      <td>5 de agosto 2015</td>\n      <td>Incumprimento contratual</td>\n      <td>No dia 18 de Maio de 2015, uma colaboradora da...</td>\n      <td>https://portaldaqueixa.com/brands/nos/complain...</td>\n      <td>2022-01-21 14:46:07</td>\n    </tr>\n    <tr>\n      <th>...</th>\n      <td>...</td>\n      <td>...</td>\n      <td>...</td>\n      <td>...</td>\n      <td>...</td>\n    </tr>\n    <tr>\n      <th>19119</th>\n      <td>8 de setembro 2017</td>\n      <td>AUSENCIA DE CONTATOS E ESCLARECIMENTOS</td>\n      <td>Estive na Loja de oeiras para dar baixa de ser...</td>\n      <td>https://portaldaqueixa.com/brands/nos/complain...</td>\n      <td>2022-01-24 17:59:36</td>\n    </tr>\n    <tr>\n      <th>19120</th>\n      <td>14 de junho 2019 (editada a 18 de junho 2019)</td>\n      <td>Velocidade de internet não corresponde a contr...</td>\n      <td>Olá, Venho por este meio reclamar do mau servi...</td>\n      <td>https://portaldaqueixa.com/brands/nos/complain...</td>\n      <td>2022-01-24 17:59:38</td>\n    </tr>\n    <tr>\n      <th>19121</th>\n      <td>18 de fevereiro 2021</td>\n      <td>Reclamação - cobrança indevida</td>\n      <td>Sou cliente da NOS há alguns anos e aderi a um...</td>\n      <td>https://portaldaqueixa.com/brands/nos/complain...</td>\n      <td>2022-01-24 17:59:41</td>\n    </tr>\n    <tr>\n      <th>19122</th>\n      <td>9 de outubro 2014</td>\n      <td>Facturação Indevida</td>\n      <td>Minha Reclamação ( 9/4/2014 DECO como intermed...</td>\n      <td>https://portaldaqueixa.com/brands/nos/complain...</td>\n      <td>2022-01-24 17:59:43</td>\n    </tr>\n    <tr>\n      <th>19123</th>\n      <td>8 de setembro 2017</td>\n      <td>Eternidade na resolução de problema</td>\n      <td>Estou sem telefone fixo num estabelecimento co...</td>\n      <td>https://portaldaqueixa.com/brands/nos/complain...</td>\n      <td>2022-01-24 17:59:46</td>\n    </tr>\n  </tbody>\n</table>\n<p>19123 rows × 5 columns</p>\n</div>"
     },
     "execution_count": 2,
     "metadata": {},
     "output_type": "execute_result"
    }
   ],
   "source": [
    "brands = sql_brands()\n",
    "\n",
    "df = sql_df('nos')\n",
    "df"
   ],
   "metadata": {
    "collapsed": false,
    "pycharm": {
     "name": "#%%\n"
    }
   }
  },
  {
   "cell_type": "code",
   "execution_count": 3,
   "outputs": [],
   "source": [
    "def date_parser(date_string):\n",
    "    \"\"\"convert dates have convert \"\"\"\n",
    "\n",
    "    mapping = {'janeiro': '01', 'fevereiro': '02', 'março': '03',\n",
    "               'abril': '04', 'maio': '05', 'junho': '06',\n",
    "               'julho': '07', 'agosto': '08', 'setembro': '09',\n",
    "               'outubro': '10', 'novembro': '11', 'dezembro': '12', 'zembro': '12'}\n",
    "\n",
    "    date_info = re.sub(\"\\(.*?\\)\", '', date_string)\n",
    "    date_info = date_info.lower().replace('de', '').split()\n",
    "    try:\n",
    "        day, month_pt, year = date_info\n",
    "        month = mapping[month_pt]\n",
    "        date_iso = '{}-{:02d}-{:02d}'.format(year, int(month), int(day))\n",
    "        date_object = datetime.datetime.strptime(date_iso, '%Y-%m-%d')\n",
    "\n",
    "        return date_object\n",
    "\n",
    "    except:\n",
    "        pass"
   ],
   "metadata": {
    "collapsed": false,
    "pycharm": {
     "name": "#%%\n"
    }
   }
  },
  {
   "cell_type": "code",
   "execution_count": 4,
   "outputs": [
    {
     "data": {
      "text/plain": "            data                                              title  \\\nid                                                                    \n1     2020-10-09                             Mau atendimento cinema   \n2     2019-01-05                                          Faturação   \n4     2017-07-04              Mau Serviço - Suspensão serviço móvel   \n5     2015-08-05                           Incumprimento contratual   \n6     2020-08-20                   Telefonemas de marketing abusivo   \n...          ...                                                ...   \n19119 2017-09-08             AUSENCIA DE CONTATOS E ESCLARECIMENTOS   \n19120 2019-06-14  Velocidade de internet não corresponde a contr...   \n19121 2021-02-18                     Reclamação - cobrança indevida   \n19122 2014-10-09                                Facturação Indevida   \n19123 2017-09-08              Eternidade na resolução de problema     \n\n                                                 comment  \\\nid                                                         \n1      venho por este meio apresentar a minha indigna...   \n2      Após me deslocar à Nós do Forum Montijo ,no di...   \n4      Boa noite, Na sequência da queixa anterior, po...   \n5      No dia 18 de Maio de 2015, uma colaboradora da...   \n6      Nos últimos dias, tenho recebido uma série de ...   \n...                                                  ...   \n19119  Estive na Loja de oeiras para dar baixa de ser...   \n19120  Olá, Venho por este meio reclamar do mau servi...   \n19121  Sou cliente da NOS há alguns anos e aderi a um...   \n19122  Minha Reclamação ( 9/4/2014 DECO como intermed...   \n19123  Estou sem telefone fixo num estabelecimento co...   \n\n                                                    link          created_at  \nid                                                                            \n1      https://portaldaqueixa.com/brands/nos/complain... 2022-01-21 14:45:55  \n2      https://portaldaqueixa.com/brands/nos/complain... 2022-01-21 14:45:58  \n4      https://portaldaqueixa.com/brands/nos/complain... 2022-01-21 14:46:04  \n5      https://portaldaqueixa.com/brands/nos/complain... 2022-01-21 14:46:07  \n6      https://portaldaqueixa.com/brands/nos/complain... 2022-01-21 14:46:10  \n...                                                  ...                 ...  \n19119  https://portaldaqueixa.com/brands/nos/complain... 2022-01-24 17:59:36  \n19120  https://portaldaqueixa.com/brands/nos/complain... 2022-01-24 17:59:38  \n19121  https://portaldaqueixa.com/brands/nos/complain... 2022-01-24 17:59:41  \n19122  https://portaldaqueixa.com/brands/nos/complain... 2022-01-24 17:59:43  \n19123  https://portaldaqueixa.com/brands/nos/complain... 2022-01-24 17:59:46  \n\n[17873 rows x 5 columns]",
      "text/html": "<div>\n<style scoped>\n    .dataframe tbody tr th:only-of-type {\n        vertical-align: middle;\n    }\n\n    .dataframe tbody tr th {\n        vertical-align: top;\n    }\n\n    .dataframe thead th {\n        text-align: right;\n    }\n</style>\n<table border=\"1\" class=\"dataframe\">\n  <thead>\n    <tr style=\"text-align: right;\">\n      <th></th>\n      <th>data</th>\n      <th>title</th>\n      <th>comment</th>\n      <th>link</th>\n      <th>created_at</th>\n    </tr>\n    <tr>\n      <th>id</th>\n      <th></th>\n      <th></th>\n      <th></th>\n      <th></th>\n      <th></th>\n    </tr>\n  </thead>\n  <tbody>\n    <tr>\n      <th>1</th>\n      <td>2020-10-09</td>\n      <td>Mau atendimento cinema</td>\n      <td>venho por este meio apresentar a minha indigna...</td>\n      <td>https://portaldaqueixa.com/brands/nos/complain...</td>\n      <td>2022-01-21 14:45:55</td>\n    </tr>\n    <tr>\n      <th>2</th>\n      <td>2019-01-05</td>\n      <td>Faturação</td>\n      <td>Após me deslocar à Nós do Forum Montijo ,no di...</td>\n      <td>https://portaldaqueixa.com/brands/nos/complain...</td>\n      <td>2022-01-21 14:45:58</td>\n    </tr>\n    <tr>\n      <th>4</th>\n      <td>2017-07-04</td>\n      <td>Mau Serviço - Suspensão serviço móvel</td>\n      <td>Boa noite, Na sequência da queixa anterior, po...</td>\n      <td>https://portaldaqueixa.com/brands/nos/complain...</td>\n      <td>2022-01-21 14:46:04</td>\n    </tr>\n    <tr>\n      <th>5</th>\n      <td>2015-08-05</td>\n      <td>Incumprimento contratual</td>\n      <td>No dia 18 de Maio de 2015, uma colaboradora da...</td>\n      <td>https://portaldaqueixa.com/brands/nos/complain...</td>\n      <td>2022-01-21 14:46:07</td>\n    </tr>\n    <tr>\n      <th>6</th>\n      <td>2020-08-20</td>\n      <td>Telefonemas de marketing abusivo</td>\n      <td>Nos últimos dias, tenho recebido uma série de ...</td>\n      <td>https://portaldaqueixa.com/brands/nos/complain...</td>\n      <td>2022-01-21 14:46:10</td>\n    </tr>\n    <tr>\n      <th>...</th>\n      <td>...</td>\n      <td>...</td>\n      <td>...</td>\n      <td>...</td>\n      <td>...</td>\n    </tr>\n    <tr>\n      <th>19119</th>\n      <td>2017-09-08</td>\n      <td>AUSENCIA DE CONTATOS E ESCLARECIMENTOS</td>\n      <td>Estive na Loja de oeiras para dar baixa de ser...</td>\n      <td>https://portaldaqueixa.com/brands/nos/complain...</td>\n      <td>2022-01-24 17:59:36</td>\n    </tr>\n    <tr>\n      <th>19120</th>\n      <td>2019-06-14</td>\n      <td>Velocidade de internet não corresponde a contr...</td>\n      <td>Olá, Venho por este meio reclamar do mau servi...</td>\n      <td>https://portaldaqueixa.com/brands/nos/complain...</td>\n      <td>2022-01-24 17:59:38</td>\n    </tr>\n    <tr>\n      <th>19121</th>\n      <td>2021-02-18</td>\n      <td>Reclamação - cobrança indevida</td>\n      <td>Sou cliente da NOS há alguns anos e aderi a um...</td>\n      <td>https://portaldaqueixa.com/brands/nos/complain...</td>\n      <td>2022-01-24 17:59:41</td>\n    </tr>\n    <tr>\n      <th>19122</th>\n      <td>2014-10-09</td>\n      <td>Facturação Indevida</td>\n      <td>Minha Reclamação ( 9/4/2014 DECO como intermed...</td>\n      <td>https://portaldaqueixa.com/brands/nos/complain...</td>\n      <td>2022-01-24 17:59:43</td>\n    </tr>\n    <tr>\n      <th>19123</th>\n      <td>2017-09-08</td>\n      <td>Eternidade na resolução de problema</td>\n      <td>Estou sem telefone fixo num estabelecimento co...</td>\n      <td>https://portaldaqueixa.com/brands/nos/complain...</td>\n      <td>2022-01-24 17:59:46</td>\n    </tr>\n  </tbody>\n</table>\n<p>17873 rows × 5 columns</p>\n</div>"
     },
     "execution_count": 4,
     "metadata": {},
     "output_type": "execute_result"
    }
   ],
   "source": [
    "df['data'] = df['data'].map(date_parser, na_action='ignore')\n",
    "df = df.dropna()\n",
    "df"
   ],
   "metadata": {
    "collapsed": false,
    "pycharm": {
     "name": "#%%\n"
    }
   }
  },
  {
   "cell_type": "code",
   "execution_count": 5,
   "outputs": [
    {
     "name": "stdout",
     "output_type": "stream",
     "text": [
      "['de', 'a', 'o', 'que', 'e', 'é', 'do', 'da', 'em', 'um', 'para', 'com', 'não', 'uma', 'os', 'no', 'se', 'na', 'por', 'mais', 'as', 'dos', 'como', 'mas', 'ao', 'ele', 'das', 'à', 'seu', 'sua', 'ou', 'quando', 'muito', 'nos', 'já', 'eu', 'também', 'só', 'pelo', 'pela', 'até', 'isso', 'ela', 'entre', 'depois', 'sem', 'mesmo', 'aos', 'seus', 'quem', 'nas', 'me', 'esse', 'eles', 'você', 'essa', 'num', 'nem', 'suas', 'meu', 'às', 'minha', 'numa', 'pelos', 'elas', 'qual', 'nós', 'lhe', 'deles', 'essas', 'esses', 'pelas', 'este', 'dele', 'tu', 'te', 'vocês', 'vos', 'lhes', 'meus', 'minhas', 'teu', 'tua', 'teus', 'tuas', 'nosso', 'nossa', 'nossos', 'nossas', 'dela', 'delas', 'esta', 'estes', 'estas', 'aquele', 'aquela', 'aqueles', 'aquelas', 'isto', 'aquilo', 'estou', 'está', 'estamos', 'estão', 'estive', 'esteve', 'estivemos', 'estiveram', 'estava', 'estávamos', 'estavam', 'estivera', 'estivéramos', 'esteja', 'estejamos', 'estejam', 'estivesse', 'estivéssemos', 'estivessem', 'estiver', 'estivermos', 'estiverem', 'hei', 'há', 'havemos', 'hão', 'houve', 'houvemos', 'houveram', 'houvera', 'houvéramos', 'haja', 'hajamos', 'hajam', 'houvesse', 'houvéssemos', 'houvessem', 'houver', 'houvermos', 'houverem', 'houverei', 'houverá', 'houveremos', 'houverão', 'houveria', 'houveríamos', 'houveriam', 'sou', 'somos', 'são', 'era', 'éramos', 'eram', 'fui', 'foi', 'fomos', 'foram', 'fora', 'fôramos', 'seja', 'sejamos', 'sejam', 'fosse', 'fôssemos', 'fossem', 'for', 'formos', 'forem', 'serei', 'será', 'seremos', 'serão', 'seria', 'seríamos', 'seriam', 'tenho', 'tem', 'temos', 'tém', 'tinha', 'tínhamos', 'tinham', 'tive', 'teve', 'tivemos', 'tiveram', 'tivera', 'tivéramos', 'tenha', 'tenhamos', 'tenham', 'tivesse', 'tivéssemos', 'tivessem', 'tiver', 'tivermos', 'tiverem', 'terei', 'terá', 'teremos', 'terão', 'teria', 'teríamos', 'teriam', 'tarde', 'venho', 'noite', 'dia', 'ja', 'pois', 'ser', 'ter', 'tendo', 'nao', 'destas', 'têm', 'neste', 'porque', 'fiz', 'janeiro', 'fevereiro', 'março', 'abril', 'maio', 'junho', 'julho', 'agosto', 'setembro', 'outubro', 'novembro', 'dezembro', 'ate', 'talvez', 'aqui', 'portanto', 'estar', 'iria', 'ia', 'eis', 'vem', 'ir', 'preciso', 'sido', 'acerca', 'seguinte', 'domingos', 'meo']\n"
     ]
    },
    {
     "name": "stderr",
     "output_type": "stream",
     "text": [
      "[nltk_data] Downloading package stopwords to\n",
      "[nltk_data]     C:\\Users\\joaom\\AppData\\Roaming\\nltk_data...\n",
      "[nltk_data]   Package stopwords is already up-to-date!\n"
     ]
    }
   ],
   "source": [
    "nltk.download('stopwords')\n",
    "stopwords = nltk.corpus.stopwords.words('portuguese')\n",
    "new_stopwords = ['tarde', 'venho', 'noite', 'dia', 'ja', 'pois', 'ser', 'ter', 'tendo', 'nao', 'destas', 'têm',\n",
    "                 'neste',\n",
    "                 'porque', 'fiz', 'janeiro', 'fevereiro', 'março', 'abril', 'maio', 'junho', 'julho', 'agosto',\n",
    "                 'setembro',\n",
    "                 'outubro', 'novembro', 'dezembro', 'ate', 'talvez', 'aqui', 'portanto', 'estar', 'iria', 'ia',\n",
    "                 'eis', 'vem', 'ir', 'preciso', 'sido', 'acerca', 'seguinte', 'domingos', ]\n",
    "stopwords.extend(new_stopwords)\n",
    "stopwords.extend(['meo'])\n",
    "print(stopwords)"
   ],
   "metadata": {
    "collapsed": false,
    "pycharm": {
     "name": "#%%\n"
    }
   }
  },
  {
   "cell_type": "code",
   "execution_count": 6,
   "outputs": [
    {
     "name": "stderr",
     "output_type": "stream",
     "text": [
      "C:\\Users\\joaom\\AppData\\Local\\Temp\\ipykernel_13668\\2875613913.py:1: SettingWithCopyWarning: \n",
      "A value is trying to be set on a copy of a slice from a DataFrame.\n",
      "Try using .loc[row_indexer,col_indexer] = value instead\n",
      "\n",
      "See the caveats in the documentation: https://pandas.pydata.org/pandas-docs/stable/user_guide/indexing.html#returning-a-view-versus-a-copy\n",
      "  df['comment'] = df['comment'].str.lower()\n"
     ]
    }
   ],
   "source": [
    "df['comment'] = df['comment'].str.lower()"
   ],
   "metadata": {
    "collapsed": false,
    "pycharm": {
     "name": "#%%\n"
    }
   }
  },
  {
   "cell_type": "code",
   "execution_count": 7,
   "outputs": [],
   "source": [
    "nlp = spacy.load('pt_core_news_sm', disable=['parser', 'ner'])\n",
    "\n",
    "def lemma(text):\n",
    "\n",
    "    doc = nlp(text)\n",
    "    result = \" \".join([token.lemma_ for token in doc])\n",
    "\n",
    "    return result"
   ],
   "metadata": {
    "collapsed": false,
    "pycharm": {
     "name": "#%%\n"
    }
   }
  },
  {
   "cell_type": "code",
   "execution_count": 8,
   "outputs": [
    {
     "name": "stderr",
     "output_type": "stream",
     "text": [
      "C:\\Users\\joaom\\AppData\\Local\\Temp\\ipykernel_13668\\1508308703.py:1: SettingWithCopyWarning: \n",
      "A value is trying to be set on a copy of a slice from a DataFrame.\n",
      "Try using .loc[row_indexer,col_indexer] = value instead\n",
      "\n",
      "See the caveats in the documentation: https://pandas.pydata.org/pandas-docs/stable/user_guide/indexing.html#returning-a-view-versus-a-copy\n",
      "  df['lemma'] = df['comment'].map(lemma)\n"
     ]
    }
   ],
   "source": [
    "df['lemma'] = df['comment'].map(lemma)"
   ],
   "metadata": {
    "collapsed": false,
    "pycharm": {
     "name": "#%%\n"
    }
   }
  },
  {
   "cell_type": "code",
   "execution_count": 9,
   "outputs": [
    {
     "data": {
      "text/plain": "            data                                              title  \\\nid                                                                    \n1     2020-10-09                             Mau atendimento cinema   \n2     2019-01-05                                          Faturação   \n4     2017-07-04              Mau Serviço - Suspensão serviço móvel   \n5     2015-08-05                           Incumprimento contratual   \n6     2020-08-20                   Telefonemas de marketing abusivo   \n...          ...                                                ...   \n19119 2017-09-08             AUSENCIA DE CONTATOS E ESCLARECIMENTOS   \n19120 2019-06-14  Velocidade de internet não corresponde a contr...   \n19121 2021-02-18                     Reclamação - cobrança indevida   \n19122 2014-10-09                                Facturação Indevida   \n19123 2017-09-08              Eternidade na resolução de problema     \n\n                                                 comment  \\\nid                                                         \n1      venho por este meio apresentar a minha indigna...   \n2      após me deslocar à nós do forum montijo ,no di...   \n4      boa noite, na sequência da queixa anterior, po...   \n5      no dia 18 de maio de 2015, uma colaboradora da...   \n6      nos últimos dias, tenho recebido uma série de ...   \n...                                                  ...   \n19119  estive na loja de oeiras para dar baixa de ser...   \n19120  olá, venho por este meio reclamar do mau servi...   \n19121  sou cliente da nos há alguns anos e aderi a um...   \n19122  minha reclamação ( 9/4/2014 deco como intermed...   \n19123  estou sem telefone fixo num estabelecimento co...   \n\n                                                    link          created_at  \\\nid                                                                             \n1      https://portaldaqueixa.com/brands/nos/complain... 2022-01-21 14:45:55   \n2      https://portaldaqueixa.com/brands/nos/complain... 2022-01-21 14:45:58   \n4      https://portaldaqueixa.com/brands/nos/complain... 2022-01-21 14:46:04   \n5      https://portaldaqueixa.com/brands/nos/complain... 2022-01-21 14:46:07   \n6      https://portaldaqueixa.com/brands/nos/complain... 2022-01-21 14:46:10   \n...                                                  ...                 ...   \n19119  https://portaldaqueixa.com/brands/nos/complain... 2022-01-24 17:59:36   \n19120  https://portaldaqueixa.com/brands/nos/complain... 2022-01-24 17:59:38   \n19121  https://portaldaqueixa.com/brands/nos/complain... 2022-01-24 17:59:41   \n19122  https://portaldaqueixa.com/brands/nos/complain... 2022-01-24 17:59:43   \n19123  https://portaldaqueixa.com/brands/nos/complain... 2022-01-24 17:59:46   \n\n                                                   lemma  \nid                                                        \n1      vir por este mear apresentar o meu indignação ...  \n2      após me deslocar à nó do forum montijo , o dia...  \n4      bom noite , o sequência da queixar anterior , ...  \n5      o dia 18 de maio de 2015 , umar colaborador da...  \n6      o último dia , ter receber umar série de telef...  \n...                                                  ...  \n19119  estivar o loja de oeiras parir dar baixo de se...  \n19120  olá , vir por este mear reclamar do mau serviç...  \n19121  ser cliente da o haver algum ano e aderir o um...  \n19122  meu reclamação ( 9/4/2014 deco comer intermedi...  \n19123  estar sem telefonar fixar num estabelecimento ...  \n\n[17873 rows x 6 columns]",
      "text/html": "<div>\n<style scoped>\n    .dataframe tbody tr th:only-of-type {\n        vertical-align: middle;\n    }\n\n    .dataframe tbody tr th {\n        vertical-align: top;\n    }\n\n    .dataframe thead th {\n        text-align: right;\n    }\n</style>\n<table border=\"1\" class=\"dataframe\">\n  <thead>\n    <tr style=\"text-align: right;\">\n      <th></th>\n      <th>data</th>\n      <th>title</th>\n      <th>comment</th>\n      <th>link</th>\n      <th>created_at</th>\n      <th>lemma</th>\n    </tr>\n    <tr>\n      <th>id</th>\n      <th></th>\n      <th></th>\n      <th></th>\n      <th></th>\n      <th></th>\n      <th></th>\n    </tr>\n  </thead>\n  <tbody>\n    <tr>\n      <th>1</th>\n      <td>2020-10-09</td>\n      <td>Mau atendimento cinema</td>\n      <td>venho por este meio apresentar a minha indigna...</td>\n      <td>https://portaldaqueixa.com/brands/nos/complain...</td>\n      <td>2022-01-21 14:45:55</td>\n      <td>vir por este mear apresentar o meu indignação ...</td>\n    </tr>\n    <tr>\n      <th>2</th>\n      <td>2019-01-05</td>\n      <td>Faturação</td>\n      <td>após me deslocar à nós do forum montijo ,no di...</td>\n      <td>https://portaldaqueixa.com/brands/nos/complain...</td>\n      <td>2022-01-21 14:45:58</td>\n      <td>após me deslocar à nó do forum montijo , o dia...</td>\n    </tr>\n    <tr>\n      <th>4</th>\n      <td>2017-07-04</td>\n      <td>Mau Serviço - Suspensão serviço móvel</td>\n      <td>boa noite, na sequência da queixa anterior, po...</td>\n      <td>https://portaldaqueixa.com/brands/nos/complain...</td>\n      <td>2022-01-21 14:46:04</td>\n      <td>bom noite , o sequência da queixar anterior , ...</td>\n    </tr>\n    <tr>\n      <th>5</th>\n      <td>2015-08-05</td>\n      <td>Incumprimento contratual</td>\n      <td>no dia 18 de maio de 2015, uma colaboradora da...</td>\n      <td>https://portaldaqueixa.com/brands/nos/complain...</td>\n      <td>2022-01-21 14:46:07</td>\n      <td>o dia 18 de maio de 2015 , umar colaborador da...</td>\n    </tr>\n    <tr>\n      <th>6</th>\n      <td>2020-08-20</td>\n      <td>Telefonemas de marketing abusivo</td>\n      <td>nos últimos dias, tenho recebido uma série de ...</td>\n      <td>https://portaldaqueixa.com/brands/nos/complain...</td>\n      <td>2022-01-21 14:46:10</td>\n      <td>o último dia , ter receber umar série de telef...</td>\n    </tr>\n    <tr>\n      <th>...</th>\n      <td>...</td>\n      <td>...</td>\n      <td>...</td>\n      <td>...</td>\n      <td>...</td>\n      <td>...</td>\n    </tr>\n    <tr>\n      <th>19119</th>\n      <td>2017-09-08</td>\n      <td>AUSENCIA DE CONTATOS E ESCLARECIMENTOS</td>\n      <td>estive na loja de oeiras para dar baixa de ser...</td>\n      <td>https://portaldaqueixa.com/brands/nos/complain...</td>\n      <td>2022-01-24 17:59:36</td>\n      <td>estivar o loja de oeiras parir dar baixo de se...</td>\n    </tr>\n    <tr>\n      <th>19120</th>\n      <td>2019-06-14</td>\n      <td>Velocidade de internet não corresponde a contr...</td>\n      <td>olá, venho por este meio reclamar do mau servi...</td>\n      <td>https://portaldaqueixa.com/brands/nos/complain...</td>\n      <td>2022-01-24 17:59:38</td>\n      <td>olá , vir por este mear reclamar do mau serviç...</td>\n    </tr>\n    <tr>\n      <th>19121</th>\n      <td>2021-02-18</td>\n      <td>Reclamação - cobrança indevida</td>\n      <td>sou cliente da nos há alguns anos e aderi a um...</td>\n      <td>https://portaldaqueixa.com/brands/nos/complain...</td>\n      <td>2022-01-24 17:59:41</td>\n      <td>ser cliente da o haver algum ano e aderir o um...</td>\n    </tr>\n    <tr>\n      <th>19122</th>\n      <td>2014-10-09</td>\n      <td>Facturação Indevida</td>\n      <td>minha reclamação ( 9/4/2014 deco como intermed...</td>\n      <td>https://portaldaqueixa.com/brands/nos/complain...</td>\n      <td>2022-01-24 17:59:43</td>\n      <td>meu reclamação ( 9/4/2014 deco comer intermedi...</td>\n    </tr>\n    <tr>\n      <th>19123</th>\n      <td>2017-09-08</td>\n      <td>Eternidade na resolução de problema</td>\n      <td>estou sem telefone fixo num estabelecimento co...</td>\n      <td>https://portaldaqueixa.com/brands/nos/complain...</td>\n      <td>2022-01-24 17:59:46</td>\n      <td>estar sem telefonar fixar num estabelecimento ...</td>\n    </tr>\n  </tbody>\n</table>\n<p>17873 rows × 6 columns</p>\n</div>"
     },
     "execution_count": 9,
     "metadata": {},
     "output_type": "execute_result"
    }
   ],
   "source": [
    "df"
   ],
   "metadata": {
    "collapsed": false,
    "pycharm": {
     "name": "#%%\n"
    }
   }
  },
  {
   "cell_type": "code",
   "execution_count": 14,
   "outputs": [
    {
     "name": "stderr",
     "output_type": "stream",
     "text": [
      "C:\\Users\\joaom\\AppData\\Local\\Temp\\ipykernel_12764\\2417289696.py:1: SettingWithCopyWarning: \n",
      "A value is trying to be set on a copy of a slice from a DataFrame.\n",
      "Try using .loc[row_indexer,col_indexer] = value instead\n",
      "\n",
      "See the caveats in the documentation: https://pandas.pydata.org/pandas-docs/stable/user_guide/indexing.html#returning-a-view-versus-a-copy\n",
      "  df['tokens'] = df['lemma'].apply(lambda token: [t for t in token if t.lower() not in stopwords])\n"
     ]
    }
   ],
   "source": [
    "df['tokens'] = df['lemma'].map(lambda token: [t for t in token if t.lower() not in stopwords])"
   ],
   "metadata": {
    "collapsed": false,
    "pycharm": {
     "name": "#%%\n"
    }
   }
  },
  {
   "cell_type": "code",
   "execution_count": null,
   "outputs": [],
   "source": [],
   "metadata": {
    "collapsed": false,
    "pycharm": {
     "name": "#%%\n"
    }
   }
  }
 ],
 "metadata": {
  "kernelspec": {
   "display_name": "Python 3",
   "language": "python",
   "name": "python3"
  },
  "language_info": {
   "codemirror_mode": {
    "name": "ipython",
    "version": 2
   },
   "file_extension": ".py",
   "mimetype": "text/x-python",
   "name": "python",
   "nbconvert_exporter": "python",
   "pygments_lexer": "ipython2",
   "version": "2.7.6"
  }
 },
 "nbformat": 4,
 "nbformat_minor": 0
}